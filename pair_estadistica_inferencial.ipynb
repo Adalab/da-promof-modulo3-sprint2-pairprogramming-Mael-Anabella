{
 "cells": [
  {
   "cell_type": "code",
   "execution_count": 1,
   "metadata": {},
   "outputs": [],
   "source": [
    "import pandas as pd\n",
    "import numpy as np\n",
    "\n",
    "# Visualización\n",
    "# ------------------------------------------------------------------------------\n",
    "import matplotlib.pyplot as plt\n",
    "import seaborn as sns\n",
    "\n",
    "# Evaluar linealidad de las relaciones entre las variables\n",
    "# y la distribución de las variables\n",
    "# ------------------------------------------------------------------------------\n",
    "#import scipy.stats as stats\n",
    "import scipy.stats as stats \n",
    "\n",
    "\n",
    "# Configuración\n",
    "# -----------------------------------------------------------------------\n",
    "pd.set_option('display.max_columns', None) # para poder visualizar todas las columnas de los DataFrames\n",
    "\n",
    "# Gestión de los warnings\n",
    "# -----------------------------------------------------------------------\n",
    "import warnings\n",
    "warnings.filterwarnings(\"ignore\")"
   ]
  },
  {
   "cell_type": "code",
   "execution_count": 2,
   "metadata": {},
   "outputs": [],
   "source": [
    "df_pair = pd.read_csv('pair_sin_nulos.csv', index_col=0)"
   ]
  },
  {
   "cell_type": "markdown",
   "metadata": {},
   "source": [
    "Ejercicios estadística inferencial\n"
   ]
  },
  {
   "cell_type": "markdown",
   "metadata": {},
   "source": [
    "Igual que en los ejercicios de la clase invertida, evalúa si las siguientes afirmaciones corresponden a una distribución exponencial o poisson.\n",
    "\n",
    "¿El tiempo que transcurre entre la llegada de autobuses a una parada sigue una distribución exponencial o de Poisson?\n",
    "\n",
    "¿El número de errores en un artículo de noticias sigue una distribución exponencial o de Poisson?\n",
    "\n",
    "¿El tiempo que transcurre entre la llegada de solicitudes de servicio en un restaurante sigue una distribución exponencial o de Poisson?\n",
    "\n",
    "¿El número de accidentes de tráfico en una hora en una ciudad sigue una distribución exponencial o de Poisson?\n",
    "\n",
    "¿El tiempo entre llegadas de llamadas telefónicas a una central de emergencias sigue una distribución exponencial o de Poisson?\n",
    "\n",
    "¿El número de clientes que ingresan a una tienda en una hora sigue una distribución exponencial o de Poisson?\n",
    "\n",
    "¿El tiempo entre llegadas de correos electrónicos en una bandeja de entrada sigue una distribución exponencial o de Poisson?\n",
    "\n",
    "¿El número de defectos en una línea de producción por día sigue una distribución exponencial o de Poisson?\n",
    "\n",
    "¿El tiempo que transcurre entre la llegada de taxis en una parada sigue una distribución exponencial o de Poisson?\n",
    "\n",
    "¿El número de errores de ortografía en un libro de texto sigue una distribución exponencial o de Poisson?"
   ]
  },
  {
   "cell_type": "markdown",
   "metadata": {},
   "source": [
    "1 - Sigue una distribución exponencial\n",
    "\n",
    "2 - Sigue una distribución de Poisson\n",
    "\n",
    "3 - Sigue una distribuión exponencial\n",
    "\n",
    "3 - Sigue una distribución de Poisson \n",
    "\n",
    "4 - Sigue una distribución exponencial\n",
    "\n",
    "5 - Sigeu una distribución de Possion\n",
    "\n",
    "6 - Sigue una distribucion exponencial\n",
    "\n",
    "7 - Sigue una distribución de Possion\n",
    "\n",
    "8 - Sigue una distribucion exponencial\n",
    "\n",
    "9 - Sifue una distribución de Poisson.\n",
    "\n",
    "En conclusión podriamos decir que Poisson mide eventos y la distribución exponencial mide el tiempo entre que sucede cada evento"
   ]
  },
  {
   "cell_type": "markdown",
   "metadata": {},
   "source": [
    "Ejercicios intervalo de confianza. \n",
    "\n",
    "Al igual que en el caso del ejercicio de la clase invertida, piensa un motivo por el que sería interesante calcular estos intervalos de confianza para la extracción de insights.\n",
    "\n"
   ]
  },
  {
   "cell_type": "markdown",
   "metadata": {},
   "source": [
    "Intervalo de Confianza para la Esperanza de Vida\n",
    "Contexto: Trabajas en una organización de salud global y deseas estimar el intervalo de confianza al 95% para la esperanza de vida promedio de cada continente.\n",
    "Nota: Cuidado porque puede que os salgan algunos nulos, genera un código para que no salgan nulos en los intervalos de confianza.\n"
   ]
  },
  {
   "cell_type": "code",
   "execution_count": 6,
   "metadata": {},
   "outputs": [
    {
     "data": {
      "text/html": [
       "<div>\n",
       "<style scoped>\n",
       "    .dataframe tbody tr th:only-of-type {\n",
       "        vertical-align: middle;\n",
       "    }\n",
       "\n",
       "    .dataframe tbody tr th {\n",
       "        vertical-align: top;\n",
       "    }\n",
       "\n",
       "    .dataframe thead th {\n",
       "        text-align: right;\n",
       "    }\n",
       "</style>\n",
       "<table border=\"1\" class=\"dataframe\">\n",
       "  <thead>\n",
       "    <tr style=\"text-align: right;\">\n",
       "      <th></th>\n",
       "      <th>continente</th>\n",
       "      <th>lifeexpectancy</th>\n",
       "    </tr>\n",
       "  </thead>\n",
       "  <tbody>\n",
       "    <tr>\n",
       "      <th>0</th>\n",
       "      <td>América del Norte</td>\n",
       "      <td>75.014286</td>\n",
       "    </tr>\n",
       "    <tr>\n",
       "      <th>1</th>\n",
       "      <td>América del Sur</td>\n",
       "      <td>74.933333</td>\n",
       "    </tr>\n",
       "    <tr>\n",
       "      <th>2</th>\n",
       "      <td>Asia</td>\n",
       "      <td>73.800000</td>\n",
       "    </tr>\n",
       "    <tr>\n",
       "      <th>3</th>\n",
       "      <td>Desconocido</td>\n",
       "      <td>72.933333</td>\n",
       "    </tr>\n",
       "    <tr>\n",
       "      <th>4</th>\n",
       "      <td>Europa</td>\n",
       "      <td>78.880952</td>\n",
       "    </tr>\n",
       "    <tr>\n",
       "      <th>5</th>\n",
       "      <td>Oceanía</td>\n",
       "      <td>71.700000</td>\n",
       "    </tr>\n",
       "    <tr>\n",
       "      <th>6</th>\n",
       "      <td>África</td>\n",
       "      <td>63.569388</td>\n",
       "    </tr>\n",
       "  </tbody>\n",
       "</table>\n",
       "</div>"
      ],
      "text/plain": [
       "          continente  lifeexpectancy\n",
       "0  América del Norte       75.014286\n",
       "1    América del Sur       74.933333\n",
       "2               Asia       73.800000\n",
       "3        Desconocido       72.933333\n",
       "4             Europa       78.880952\n",
       "5            Oceanía       71.700000\n",
       "6             África       63.569388"
      ]
     },
     "execution_count": 6,
     "metadata": {},
     "output_type": "execute_result"
    }
   ],
   "source": [
    "df_continente = df_pair.groupby('continente')['lifeexpectancy'].mean().reset_index()\n",
    "df_continente"
   ]
  },
  {
   "cell_type": "code",
   "execution_count": 37,
   "metadata": {},
   "outputs": [
    {
     "name": "stdout",
     "output_type": "stream",
     "text": [
      "El intervalo de confianza de América del Norte esta entre 0    70.65\n",
      "Name: lifeexpectancy, dtype: float64 0    79.38\n",
      "Name: lifeexpectancy, dtype: float64\n",
      "El intervalo de confianza de América del Sur esta entre 1    70.57\n",
      "Name: lifeexpectancy, dtype: float64 1    79.3\n",
      "Name: lifeexpectancy, dtype: float64\n",
      "El intervalo de confianza de Asia esta entre 2    69.44\n",
      "Name: lifeexpectancy, dtype: float64 2    78.16\n",
      "Name: lifeexpectancy, dtype: float64\n",
      "El intervalo de confianza de Desconocido esta entre 3    68.57\n",
      "Name: lifeexpectancy, dtype: float64 3    77.3\n",
      "Name: lifeexpectancy, dtype: float64\n",
      "El intervalo de confianza de Europa esta entre 4    74.52\n",
      "Name: lifeexpectancy, dtype: float64 4    83.25\n",
      "Name: lifeexpectancy, dtype: float64\n",
      "El intervalo de confianza de Oceanía esta entre 5    67.34\n",
      "Name: lifeexpectancy, dtype: float64 5    76.06\n",
      "Name: lifeexpectancy, dtype: float64\n",
      "El intervalo de confianza de África esta entre 6    59.2\n",
      "Name: lifeexpectancy, dtype: float64 6    67.93\n",
      "Name: lifeexpectancy, dtype: float64\n"
     ]
    }
   ],
   "source": [
    "for continente in df_continente['continente']:  \n",
    "    # Calculamos la media para la estimación puntual\n",
    "\n",
    "   media_esperanza = df_continente[df_continente['continente']==continente][\"lifeexpectancy\"]\n",
    "    # El error sirve para calcular cuanto puede variar la estimacion puntual\n",
    "   error_esperanza = stats.sem(df_continente[\"lifeexpectancy\"])\n",
    " \n",
    "    # definimos el nivel de confianza\n",
    "   confianza_esperanza = 0.95\n",
    "\n",
    "    # calculamos los grados de libertad de la muestra. Recordad que debemos restar el total de datos que tenemos -1. \n",
    "   grados_libertad_esperanza = len(df_continente[\"lifeexpectancy\"]) - 1\n",
    "    \n",
    "    # calculamos el valor crítico de la muestra\n",
    "   valor_critico_esperanza = stats.t.ppf((1 + confianza_esperanza) / 2, grados_libertad_esperanza)\n",
    "\n",
    "    # calculamos el intervalo de confianza\n",
    "   limite_inf_esperanza = media_esperanza - valor_critico_esperanza * error_esperanza\n",
    "   limite_sup_esperanza = media_esperanza + valor_critico_esperanza * error_esperanza\n",
    "\n",
    "   print(f'El intervalo de confianza de {continente} esta entre', np.round(limite_inf_esperanza,2), np.round(limite_sup_esperanza,2))"
   ]
  },
  {
   "cell_type": "code",
   "execution_count": 38,
   "metadata": {},
   "outputs": [],
   "source": [
    "df_asia = df_pair[df_pair['continente']== 'Asia']"
   ]
  },
  {
   "cell_type": "code",
   "execution_count": 39,
   "metadata": {},
   "outputs": [
    {
     "name": "stdout",
     "output_type": "stream",
     "text": [
      "Intervalo de Confianza: (72.37, 75.23)\n"
     ]
    }
   ],
   "source": [
    "# Calculamos la media para la estimación puntual\n",
    "media_esperanza = df_asia[\"lifeexpectancy\"].mean()\n",
    "\n",
    "\n",
    "# El error sirve para calcular cuanto puede variar la estimacion puntual\n",
    "error_esperanza = stats.sem(df_asia[\"lifeexpectancy\"])\n",
    "\n",
    "# definimos el nivel de confianza\n",
    "confianza_esperanza = 0.95\n",
    "\n",
    "# calculamos los grados de libertad de la muestra. Recordad que debemos restar el total de datos que tenemos -1. \n",
    "grados_libertad_esperanza = len(df_asia[\"lifeexpectancy\"]) - 1\n",
    "\n",
    "# calculamos el valor crítico de la muestra\n",
    "valor_critico_esperanza = stats.t.ppf((1 + confianza_esperanza) / 2, grados_libertad_esperanza)\n",
    "\n",
    "# calculamos el intervalo de confianza\n",
    "limite_inf_esperanza = media_esperanza - valor_critico_esperanza * error_esperanza\n",
    "limite_sup_esperanza = media_esperanza + valor_critico_esperanza * error_esperanza\n",
    "print(f\"Intervalo de Confianza: ({np.round(limite_inf_esperanza, 2)}, {np.round(limite_sup_esperanza, 2)})\")"
   ]
  },
  {
   "cell_type": "markdown",
   "metadata": {},
   "source": [
    "Intervalo de Confianza para el PIB\n",
    "Contexto: Eres una economista y quieres calcular el intervalo de confianza al 90% para el Producto Interno Bruto (PIB) de los continentes.\n",
    "\n"
   ]
  },
  {
   "cell_type": "code",
   "execution_count": 13,
   "metadata": {},
   "outputs": [
    {
     "name": "stdout",
     "output_type": "stream",
     "text": [
      "El intervalo de confiazna esta entre 31351290957.41 1621949781243.1\n",
      "La media es: 826650536100.2559\n"
     ]
    }
   ],
   "source": [
    "# Calculamos la media para la estimación puntual\n",
    "media_gdp_asia = df_asia[\"gdp\"].mean()\n",
    "\n",
    "\n",
    "# El error sirve para calcular cuanto puede variar la estimacion puntual\n",
    "error_gdp_asia= stats.sem(df_asia[\"gdp\"])\n",
    "\n",
    "# definimos el nivel de confianza\n",
    "confianza_gdp_asia= 0.90\n",
    "\n",
    "# calculamos los grados de libertad de la muestra. Recordad que debemos restar el total de datos que tenemos -1. \n",
    "grados_libertad_gdp_asia= len(df_asia[\"gdp\"]) - 1\n",
    "\n",
    "# calculamos el valor crítico de la muestra\n",
    "valor_critico_gdp_asia = stats.t.ppf((1 + confianza_gdp_asia) / 2, grados_libertad_gdp_asia)\n",
    "\n",
    "# calculamos el intervalo de confianza\n",
    "limite_inf_gdp_asia = media_gdp_asia - valor_critico_gdp_asia* error_gdp_asia\n",
    "limite_sup_gdp_asia = media_gdp_asia + valor_critico_gdp_asia * error_gdp_asia\n",
    "\n",
    "print('El intervalo de confiazna esta entre', np.round(limite_inf_gdp_asia,2), np.round(limite_sup_gdp_asia, 2))\n",
    "print('La media es:', media_gdp_asia)"
   ]
  },
  {
   "cell_type": "markdown",
   "metadata": {},
   "source": [
    "Intervalo de Confianza para la Tasa de Natalidad\n",
    "Contexto: Trabajas en una agencia gubernamental que se ocupa de cuestiones demográficas y deseas determinar el intervalo de confianza al 99% para la tasa de natalidad promedio en Asia.\n",
    "\n"
   ]
  },
  {
   "cell_type": "markdown",
   "metadata": {},
   "source": [
    "Birth Rate: Número de nacimientos por cada 1,000 habitantes por año."
   ]
  },
  {
   "cell_type": "code",
   "execution_count": 14,
   "metadata": {},
   "outputs": [
    {
     "name": "stdout",
     "output_type": "stream",
     "text": [
      "El intervalo de confianza para la tasa de natalidad es de 16.236268713112565 21.320940589213016\n"
     ]
    }
   ],
   "source": [
    "# Calculamos la media para la estimación puntual\n",
    "media_natalidad_asia = df_asia[\"birthrate\"].mean()\n",
    "\n",
    "\n",
    "# El error sirve para calcular cuanto puede variar la estimacion puntual\n",
    "error_natalidad_asia= stats.sem(df_asia[\"birthrate\"])\n",
    "\n",
    "# definimos el nivel de confianza\n",
    "confianza_natalidad_asia= 0.99\n",
    "\n",
    "# calculamos los grados de libertad de la muestra. Recordad que debemos restar el total de datos que tenemos -1. \n",
    "grados_libertad_natalidad_asia= len(df_asia[\"birthrate\"]) - 1\n",
    "\n",
    "# calculamos el valor crítico de la muestra\n",
    "valor_critico_natalidad_asia = stats.t.ppf((1 + confianza_natalidad_asia) / 2, grados_libertad_natalidad_asia)\n",
    "\n",
    "# calculamos el intervalo de confianza\n",
    "limite_inf_natalidad_asia = media_natalidad_asia - valor_critico_natalidad_asia* error_natalidad_asia\n",
    "limite_sup_natalidad_asia = media_natalidad_asia + valor_critico_natalidad_asia * error_natalidad_asia\n",
    "\n",
    "print('El intervalo de confianza para la tasa de natalidad es de', limite_inf_natalidad_asia, limite_sup_natalidad_asia)"
   ]
  },
  {
   "cell_type": "markdown",
   "metadata": {},
   "source": [
    "Intervalo de Confianza para la Tasa de Desempleo\n",
    "Contexto: Eres un analista de políticas públicas y deseas calcular el intervalo de confianza al 95% para la tasa de desempleo promedio en los países de Oceanía.\n",
    "\n"
   ]
  },
  {
   "cell_type": "markdown",
   "metadata": {},
   "source": [
    "Unemployment rate: Porcentaje de la fuerza laboral que está desempleada."
   ]
  },
  {
   "cell_type": "code",
   "execution_count": 16,
   "metadata": {},
   "outputs": [],
   "source": [
    "df_oceania = df_pair[df_pair['continente']== 'Oceanía']\n"
   ]
  },
  {
   "cell_type": "code",
   "execution_count": 21,
   "metadata": {},
   "outputs": [
    {
     "name": "stdout",
     "output_type": "stream",
     "text": [
      "El intervalo de confianza para la tasa de desempleo en Oceanñia es: 4.05 - 7.01\n"
     ]
    }
   ],
   "source": [
    "media_desempleo = df_oceania['unemploymentrate'].mean()\n",
    "\n",
    "error_desempleo = stats.sem(df_asia['unemploymentrate'])\n",
    "\n",
    "confianza_desempleo = 0.95\n",
    "\n",
    "grados_libertad_confianza = len(df_oceania['unemploymentrate']) - 1\n",
    "\n",
    "valor_critico_desempleo = stats.t.ppf((1 + confianza_desempleo) / 2, grados_libertad_confianza)\n",
    "\n",
    "# calculamos el intervalo de confianza\n",
    "limite_inf_desempleo = media_desempleo - valor_critico_desempleo* error_desempleo\n",
    "limite_sup_desempleo = media_desempleo + valor_critico_desempleo * error_desempleo\n",
    "\n",
    "print('El intervalo de confianza para la tasa de desempleo en Oceanñia es:', np.round(limite_inf_desempleo,2), '-', np.round(limite_sup_desempleo,2))"
   ]
  },
  {
   "cell_type": "markdown",
   "metadata": {},
   "source": [
    "Intervalo de Confianza para la Tasa de Impuestos\n",
    "Contexto: Trabajas en un ministerio de finanzas y deseas estimar el intervalo de confianza al 90% para la tasa de impuestos promedio en los países de África."
   ]
  },
  {
   "cell_type": "code",
   "execution_count": 22,
   "metadata": {},
   "outputs": [],
   "source": [
    "df_africa = df_pair[df_pair['continente']== 'Asia']\n"
   ]
  },
  {
   "cell_type": "code",
   "execution_count": 24,
   "metadata": {},
   "outputs": [
    {
     "name": "stdout",
     "output_type": "stream",
     "text": [
      "El intervalo de confianza para la tasa de desempleo en Oceanñia es: 91.7 183.36\n"
     ]
    }
   ],
   "source": [
    "media_impuestos = df_oceania['cpi'].mean()\n",
    "\n",
    "error_impuestos = stats.sem(df_pair['cpi'])\n",
    "\n",
    "confianza_impuestos = 0.90\n",
    "\n",
    "grados_libertad_impuestos = len(df_africa['cpi']) - 1\n",
    "\n",
    "valor_critico_impuestos = stats.t.ppf((1 + confianza_impuestos) / 2, grados_libertad_impuestos)\n",
    "\n",
    "# calculamos el intervalo de confianza\n",
    "limite_inf_impuestos = media_impuestos- valor_critico_impuestos* error_impuestos\n",
    "limite_sup_impuestos = media_impuestos + valor_critico_impuestos * error_impuestos\n",
    "\n",
    "print('El intervalo de confianza para la tasa de desempleo en Oceanñia es:', np.round(limite_inf_impuestos,2), np.round(limite_sup_impuestos,2))"
   ]
  },
  {
   "cell_type": "markdown",
   "metadata": {},
   "source": [
    "Ejercicios prueba de hipótesis: Hasta ahora en la lección y en los ejercicios de la clase invertida os hemos propuesto un contexto y unas hipótesis para entender que es la prueba de hipótesis. Ahora es tu turno, tienes que pensar en 2 hipótesis que quieras aceptar o rechazar usando una prueba de hipótesis en base a los datos que tenemos."
   ]
  },
  {
   "cell_type": "markdown",
   "metadata": {},
   "source": [
    "Gross tertiary education enrollment (%): Tasa bruta de matriculación en educación terciaria.\n",
    "\n",
    "Gross primary education enrollment (%): Tasa bruta de matriculación en educación primaria.\n",
    "\n",
    "Fertility Rate: Número promedio de hijos nacidos de una mujer durante su vida."
   ]
  },
  {
   "cell_type": "markdown",
   "metadata": {},
   "source": [
    "En esta hipotesis nos planteamos si hay diferencia significativa entre la tasa de matriculacion primaria entre Africa y Sudamerica"
   ]
  },
  {
   "cell_type": "code",
   "execution_count": 45,
   "metadata": {},
   "outputs": [],
   "source": [
    "def prueba_hipotesis(*args):\n",
    "    \n",
    "    # lo primero que tenemos que hacer es mirar si las varianzas son iguales o no\n",
    "    if len(args) == 2:\n",
    "        p_valor_varianza = stats.levene(*args, center = \"median\")[1]\n",
    "    else:\n",
    "        p_valor_varianza = stats.bartlett(*args)[1]\n",
    "    \n",
    "    if p_valor_varianza > 0.05:\n",
    "        # realizamos la prueba t de Student\n",
    "        t_stat, p_valor = stats.ttest_ind(*args, equal_var=True,nan_policy='omit')\n",
    "    else:\n",
    "        t_stat, p_valor = stats.ttest_ind(*args, equal_var=False, nan_policy='omit')\n",
    "        \n",
    "    # Establecemos un nivel de significancia (alfa)\n",
    "    alfa = 0.05\n",
    "\n",
    "    # comparamos el p-valor con el nivel de significancia\n",
    "    if p_valor < alfa:\n",
    "        print(\"Rechazamos la hipótesis nula.\")\n",
    "        print(\"Hay una diferencia significativa en la tasa de matriculación primaria.\", p_valor)\n",
    "    else:\n",
    "        print(\"No podemos rechazar la hipótesis nula.\")\n",
    "        print(\"No hay evidencia suficiente para afirmar una diferencia significativa en la tasa de matriculacion primaria.\", p_valor)"
   ]
  },
  {
   "cell_type": "code",
   "execution_count": 46,
   "metadata": {},
   "outputs": [
    {
     "name": "stdout",
     "output_type": "stream",
     "text": [
      "No podemos rechazar la hipótesis nula.\n",
      "No hay evidencia suficiente para afirmar una diferencia significativa en la tasa de matriculacion primaria. nan\n"
     ]
    }
   ],
   "source": [
    "# filtramos los datos para obtener dos grupos: educación básica 4 años y educación secundaria\n",
    "grupo_españa = df_pair[df_pair['continente'] == 'Árica'][\"grossprimaryeducationenrollment\"]\n",
    "grupo_argentina = df_pair[df_pair['continente'] == 'América del Sur'][\"grossprimaryeducationenrollment\"]\n",
    "\n",
    "# llamamos a la función que hemos creado\n",
    "prueba_hipotesis(grupo_españa, grupo_argentina )"
   ]
  }
 ],
 "metadata": {
  "kernelspec": {
   "display_name": "base",
   "language": "python",
   "name": "python3"
  },
  "language_info": {
   "codemirror_mode": {
    "name": "ipython",
    "version": 3
   },
   "file_extension": ".py",
   "mimetype": "text/x-python",
   "name": "python",
   "nbconvert_exporter": "python",
   "pygments_lexer": "ipython3",
   "version": "3.10.9"
  },
  "orig_nbformat": 4
 },
 "nbformat": 4,
 "nbformat_minor": 2
}
